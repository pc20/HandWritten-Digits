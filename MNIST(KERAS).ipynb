{
 "cells": [
  {
   "cell_type": "code",
   "execution_count": 17,
   "metadata": {},
   "outputs": [],
   "source": [
    "import keras\n",
    "from keras.models import Sequential\n",
    "from keras.layers import Dense, Activation,Conv2D, MaxPooling2D, Input,Flatten,Dropout\n",
    "from keras import optimizers\n",
    "import tensorflow as tf"
   ]
  },
  {
   "cell_type": "code",
   "execution_count": 2,
   "metadata": {},
   "outputs": [],
   "source": [
    "mnist = tf.keras.datasets.mnist"
   ]
  },
  {
   "cell_type": "code",
   "execution_count": 3,
   "metadata": {},
   "outputs": [],
   "source": [
    "(x_train, y_train),(x_test, y_test) = mnist.load_data()"
   ]
  },
  {
   "cell_type": "code",
   "execution_count": 4,
   "metadata": {
    "collapsed": true
   },
   "outputs": [],
   "source": [
    "x_train, x_test = x_train / 255.0, x_test / 255.0"
   ]
  },
  {
   "cell_type": "code",
   "execution_count": 5,
   "metadata": {
    "collapsed": true
   },
   "outputs": [],
   "source": [
    "input_width = 28\n",
    "input_height = 28\n",
    "input_channels = 1\n",
    "input_shape = (input_height,input_width,1)\n",
    "num_classes = 10"
   ]
  },
  {
   "cell_type": "code",
   "execution_count": 6,
   "metadata": {},
   "outputs": [
    {
     "data": {
      "text/plain": [
       "(60000, 28, 28)"
      ]
     },
     "execution_count": 6,
     "metadata": {},
     "output_type": "execute_result"
    }
   ],
   "source": [
    "x_train.shape"
   ]
  },
  {
   "cell_type": "code",
   "execution_count": 7,
   "metadata": {
    "collapsed": true
   },
   "outputs": [],
   "source": [
    "x_train = x_train.reshape(x_train.shape[0],28,28,1)"
   ]
  },
  {
   "cell_type": "code",
   "execution_count": 8,
   "metadata": {},
   "outputs": [
    {
     "data": {
      "text/plain": [
       "(60000, 28, 28, 1)"
      ]
     },
     "execution_count": 8,
     "metadata": {},
     "output_type": "execute_result"
    }
   ],
   "source": [
    "x_train.shape"
   ]
  },
  {
   "cell_type": "code",
   "execution_count": 9,
   "metadata": {
    "collapsed": true
   },
   "outputs": [],
   "source": [
    "x_test = x_test.reshape(x_test.shape[0],28,28,1)"
   ]
  },
  {
   "cell_type": "code",
   "execution_count": 10,
   "metadata": {},
   "outputs": [
    {
     "data": {
      "text/plain": [
       "(10000, 28, 28, 1)"
      ]
     },
     "execution_count": 10,
     "metadata": {},
     "output_type": "execute_result"
    }
   ],
   "source": [
    "x_test.shape"
   ]
  },
  {
   "cell_type": "code",
   "execution_count": 11,
   "metadata": {
    "collapsed": true
   },
   "outputs": [],
   "source": [
    "model1 = Sequential()"
   ]
  },
  {
   "cell_type": "code",
   "execution_count": 12,
   "metadata": {},
   "outputs": [],
   "source": [
    "model1.add(Conv2D(32, kernel_size=(5, 5),activation='relu',padding='SAME',input_shape=input_shape,use_bias=True))\n",
    "model1.add(MaxPooling2D(pool_size=(2, 2)))\n",
    "model1.add(Conv2D(64, (5, 5), activation='relu',padding='SAME',use_bias=True))\n",
    "model1.add(MaxPooling2D(pool_size=(2, 2)))\n",
    "model1.add(Flatten())\n",
    "model1.add(Dense(num_classes,activation=\"softmax\"))"
   ]
  },
  {
   "cell_type": "code",
   "execution_count": 13,
   "metadata": {
    "collapsed": true
   },
   "outputs": [],
   "source": [
    "adam = optimizers.Adam(lr=0.01)\n",
    "model1.compile(optimizer='adam', loss='categorical_crossentropy', metrics=['accuracy'])"
   ]
  },
  {
   "cell_type": "code",
   "execution_count": 14,
   "metadata": {},
   "outputs": [
    {
     "name": "stdout",
     "output_type": "stream",
     "text": [
      "_________________________________________________________________\n",
      "Layer (type)                 Output Shape              Param #   \n",
      "=================================================================\n",
      "conv2d_1 (Conv2D)            (None, 28, 28, 32)        832       \n",
      "_________________________________________________________________\n",
      "max_pooling2d_1 (MaxPooling2 (None, 14, 14, 32)        0         \n",
      "_________________________________________________________________\n",
      "conv2d_2 (Conv2D)            (None, 14, 14, 64)        51264     \n",
      "_________________________________________________________________\n",
      "max_pooling2d_2 (MaxPooling2 (None, 7, 7, 64)          0         \n",
      "_________________________________________________________________\n",
      "flatten_1 (Flatten)          (None, 3136)              0         \n",
      "_________________________________________________________________\n",
      "dense_1 (Dense)              (None, 10)                31370     \n",
      "=================================================================\n",
      "Total params: 83,466\n",
      "Trainable params: 83,466\n",
      "Non-trainable params: 0\n",
      "_________________________________________________________________\n"
     ]
    }
   ],
   "source": [
    "model1.summary()"
   ]
  },
  {
   "cell_type": "code",
   "execution_count": 15,
   "metadata": {
    "scrolled": true
   },
   "outputs": [
    {
     "name": "stdout",
     "output_type": "stream",
     "text": [
      "Epoch 1/25\n",
      "60000/60000 [==============================] - 22s 362us/step - loss: 0.5152 - acc: 0.8560\n",
      "Epoch 2/25\n",
      "60000/60000 [==============================] - 17s 276us/step - loss: 0.1146 - acc: 0.9658\n",
      "Epoch 3/25\n",
      "60000/60000 [==============================] - 17s 276us/step - loss: 0.0747 - acc: 0.9777\n",
      "Epoch 4/25\n",
      "60000/60000 [==============================] - 17s 275us/step - loss: 0.0595 - acc: 0.9817\n",
      "Epoch 5/25\n",
      "60000/60000 [==============================] - 17s 275us/step - loss: 0.0508 - acc: 0.9846\n",
      "Epoch 6/25\n",
      "60000/60000 [==============================] - 17s 275us/step - loss: 0.0422 - acc: 0.9870\n",
      "Epoch 7/25\n",
      "60000/60000 [==============================] - 17s 275us/step - loss: 0.0371 - acc: 0.9889\n",
      "Epoch 8/25\n",
      "60000/60000 [==============================] - 17s 276us/step - loss: 0.0330 - acc: 0.9900\n",
      "Epoch 9/25\n",
      "60000/60000 [==============================] - 17s 276us/step - loss: 0.0300 - acc: 0.9907\n",
      "Epoch 10/25\n",
      "60000/60000 [==============================] - 17s 277us/step - loss: 0.0272 - acc: 0.9915\n",
      "Epoch 11/25\n",
      "60000/60000 [==============================] - 17s 286us/step - loss: 0.0230 - acc: 0.9931\n",
      "Epoch 12/25\n",
      "60000/60000 [==============================] - 17s 289us/step - loss: 0.0220 - acc: 0.9932\n",
      "Epoch 13/25\n",
      "60000/60000 [==============================] - 17s 277us/step - loss: 0.0201 - acc: 0.9938\n",
      "Epoch 14/25\n",
      "60000/60000 [==============================] - 17s 279us/step - loss: 0.0174 - acc: 0.9948\n",
      "Epoch 15/25\n",
      "60000/60000 [==============================] - 17s 278us/step - loss: 0.0158 - acc: 0.9952\n",
      "Epoch 16/25\n",
      "60000/60000 [==============================] - 17s 278us/step - loss: 0.0144 - acc: 0.9956\n",
      "Epoch 17/25\n",
      "60000/60000 [==============================] - 17s 278us/step - loss: 0.0125 - acc: 0.9963\n",
      "Epoch 18/25\n",
      "60000/60000 [==============================] - 17s 278us/step - loss: 0.0116 - acc: 0.9965\n",
      "Epoch 19/25\n",
      "60000/60000 [==============================] - 17s 278us/step - loss: 0.0123 - acc: 0.9960\n",
      "Epoch 20/25\n",
      "60000/60000 [==============================] - 17s 279us/step - loss: 0.0099 - acc: 0.9972\n",
      "Epoch 21/25\n",
      "60000/60000 [==============================] - 17s 279us/step - loss: 0.0093 - acc: 0.9970\n",
      "Epoch 22/25\n",
      "60000/60000 [==============================] - 17s 279us/step - loss: 0.0087 - acc: 0.9974\n",
      "Epoch 23/25\n",
      "60000/60000 [==============================] - 17s 278us/step - loss: 0.0078 - acc: 0.9977\n",
      "Epoch 24/25\n",
      "60000/60000 [==============================] - 17s 279us/step - loss: 0.0065 - acc: 0.9983\n",
      "Epoch 25/25\n",
      "60000/60000 [==============================] - 17s 279us/step - loss: 0.0065 - acc: 0.9982\n"
     ]
    },
    {
     "data": {
      "text/plain": [
       "<keras.callbacks.History at 0x2549f426908>"
      ]
     },
     "execution_count": 15,
     "metadata": {},
     "output_type": "execute_result"
    }
   ],
   "source": [
    "model1.fit(x_train, keras.utils.to_categorical(y_train, 10),batch_size=600,epochs=25)"
   ]
  },
  {
   "cell_type": "code",
   "execution_count": 16,
   "metadata": {},
   "outputs": [
    {
     "name": "stdout",
     "output_type": "stream",
     "text": [
      "10000/10000 [==============================] - 1s 139us/step\n"
     ]
    },
    {
     "data": {
      "text/plain": [
       "[0.029094248367473482, 0.9915000081062317]"
      ]
     },
     "execution_count": 16,
     "metadata": {},
     "output_type": "execute_result"
    }
   ],
   "source": [
    "score = model1.evaluate(x_test,keras.utils.to_categorical(y_test, 10) ,batch_size=600)\n",
    "score"
   ]
  },
  {
   "cell_type": "code",
   "execution_count": null,
   "metadata": {
    "collapsed": true
   },
   "outputs": [],
   "source": []
  },
  {
   "cell_type": "code",
   "execution_count": null,
   "metadata": {
    "collapsed": true
   },
   "outputs": [],
   "source": []
  },
  {
   "cell_type": "code",
   "execution_count": null,
   "metadata": {},
   "outputs": [],
   "source": []
  },
  {
   "cell_type": "code",
   "execution_count": null,
   "metadata": {
    "collapsed": true
   },
   "outputs": [],
   "source": []
  },
  {
   "cell_type": "code",
   "execution_count": null,
   "metadata": {
    "collapsed": true
   },
   "outputs": [],
   "source": []
  },
  {
   "cell_type": "code",
   "execution_count": null,
   "metadata": {
    "collapsed": true
   },
   "outputs": [],
   "source": []
  },
  {
   "cell_type": "code",
   "execution_count": null,
   "metadata": {
    "collapsed": true
   },
   "outputs": [],
   "source": []
  }
 ],
 "metadata": {
  "kernelspec": {
   "display_name": "Python 3",
   "language": "python",
   "name": "python3"
  },
  "language_info": {
   "codemirror_mode": {
    "name": "ipython",
    "version": 3
   },
   "file_extension": ".py",
   "mimetype": "text/x-python",
   "name": "python",
   "nbconvert_exporter": "python",
   "pygments_lexer": "ipython3",
   "version": "3.6.3"
  }
 },
 "nbformat": 4,
 "nbformat_minor": 2
}
