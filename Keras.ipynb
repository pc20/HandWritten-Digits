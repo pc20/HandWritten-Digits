{
 "cells": [
  {
   "cell_type": "code",
   "execution_count": 1,
   "metadata": {},
   "outputs": [
    {
     "name": "stderr",
     "output_type": "stream",
     "text": [
      "C:\\ProgramData\\Anaconda3\\lib\\site-packages\\h5py\\__init__.py:34: FutureWarning: Conversion of the second argument of issubdtype from `float` to `np.floating` is deprecated. In future, it will be treated as `np.float64 == np.dtype(float).type`.\n",
      "  from ._conv import register_converters as _register_converters\n",
      "Using TensorFlow backend.\n"
     ]
    },
    {
     "name": "stdout",
     "output_type": "stream",
     "text": [
      "WARNING:tensorflow:From C:\\ProgramData\\Anaconda3\\lib\\site-packages\\tensorflow\\contrib\\learn\\python\\learn\\datasets\\base.py:198: retry (from tensorflow.contrib.learn.python.learn.datasets.base) is deprecated and will be removed in a future version.\n",
      "Instructions for updating:\n",
      "Use the retry module or similar alternatives.\n"
     ]
    }
   ],
   "source": [
    "from keras.models import Sequential\n",
    "from keras.layers import Dense, Activation,Conv2D, MaxPooling2D, Input,Flatten,Dropout\n",
    "from sklearn import datasets\n",
    "from tensorflow.examples.tutorials.mnist import input_data\n",
    "from keras import optimizers\n",
    "import numpy as np"
   ]
  },
  {
   "cell_type": "code",
   "execution_count": 4,
   "metadata": {
    "collapsed": true
   },
   "outputs": [],
   "source": [
    "model = Sequential()\n",
    "model.add(Dense(256, input_dim=784, activation=\"relu\",use_bias=True))\n",
    "model.add(Dense(256,activation='relu',use_bias=True))\n",
    "model.add(Dense(10,activation=\"softmax\"))"
   ]
  },
  {
   "cell_type": "code",
   "execution_count": 5,
   "metadata": {
    "collapsed": true
   },
   "outputs": [],
   "source": [
    "adam = optimizers.Adam(lr=0.01)\n",
    "model.compile(optimizer='adam', loss='categorical_crossentropy', metrics=['accuracy'])"
   ]
  },
  {
   "cell_type": "code",
   "execution_count": 19,
   "metadata": {},
   "outputs": [
    {
     "data": {
      "text/plain": [
       "(569, 30)"
      ]
     },
     "execution_count": 19,
     "metadata": {},
     "output_type": "execute_result"
    }
   ],
   "source": [
    "cancer = datasets.load_breast_cancer()\n",
    "cancer.data.shape"
   ]
  },
  {
   "cell_type": "code",
   "execution_count": 2,
   "metadata": {},
   "outputs": [
    {
     "name": "stdout",
     "output_type": "stream",
     "text": [
      "WARNING:tensorflow:From <ipython-input-2-6f78a56b35f2>:1: read_data_sets (from tensorflow.contrib.learn.python.learn.datasets.mnist) is deprecated and will be removed in a future version.\n",
      "Instructions for updating:\n",
      "Please use alternatives such as official/mnist/dataset.py from tensorflow/models.\n",
      "WARNING:tensorflow:From C:\\ProgramData\\Anaconda3\\lib\\site-packages\\tensorflow\\contrib\\learn\\python\\learn\\datasets\\mnist.py:260: maybe_download (from tensorflow.contrib.learn.python.learn.datasets.base) is deprecated and will be removed in a future version.\n",
      "Instructions for updating:\n",
      "Please write your own downloading logic.\n",
      "WARNING:tensorflow:From C:\\ProgramData\\Anaconda3\\lib\\site-packages\\tensorflow\\contrib\\learn\\python\\learn\\datasets\\mnist.py:262: extract_images (from tensorflow.contrib.learn.python.learn.datasets.mnist) is deprecated and will be removed in a future version.\n",
      "Instructions for updating:\n",
      "Please use tf.data to implement this functionality.\n",
      "Extracting MNIST_data/train-images-idx3-ubyte.gz\n",
      "WARNING:tensorflow:From C:\\ProgramData\\Anaconda3\\lib\\site-packages\\tensorflow\\contrib\\learn\\python\\learn\\datasets\\mnist.py:267: extract_labels (from tensorflow.contrib.learn.python.learn.datasets.mnist) is deprecated and will be removed in a future version.\n",
      "Instructions for updating:\n",
      "Please use tf.data to implement this functionality.\n",
      "Extracting MNIST_data/train-labels-idx1-ubyte.gz\n",
      "WARNING:tensorflow:From C:\\ProgramData\\Anaconda3\\lib\\site-packages\\tensorflow\\contrib\\learn\\python\\learn\\datasets\\mnist.py:110: dense_to_one_hot (from tensorflow.contrib.learn.python.learn.datasets.mnist) is deprecated and will be removed in a future version.\n",
      "Instructions for updating:\n",
      "Please use tf.one_hot on tensors.\n",
      "Extracting MNIST_data/t10k-images-idx3-ubyte.gz\n",
      "Extracting MNIST_data/t10k-labels-idx1-ubyte.gz\n",
      "WARNING:tensorflow:From C:\\ProgramData\\Anaconda3\\lib\\site-packages\\tensorflow\\contrib\\learn\\python\\learn\\datasets\\mnist.py:290: DataSet.__init__ (from tensorflow.contrib.learn.python.learn.datasets.mnist) is deprecated and will be removed in a future version.\n",
      "Instructions for updating:\n",
      "Please use alternatives such as official/mnist/dataset.py from tensorflow/models.\n"
     ]
    }
   ],
   "source": [
    "mnist = input_data.read_data_sets(\"MNIST_data/\", one_hot=True)"
   ]
  },
  {
   "cell_type": "code",
   "execution_count": 6,
   "metadata": {},
   "outputs": [
    {
     "name": "stdout",
     "output_type": "stream",
     "text": [
      "Epoch 1/25\n",
      "55000/55000 [==============================] - 13s 232us/step - loss: 0.4671 - acc: 0.8716\n",
      "Epoch 2/25\n",
      "55000/55000 [==============================] - 1s 26us/step - loss: 0.1690 - acc: 0.9506\n",
      "Epoch 3/25\n",
      "55000/55000 [==============================] - 1s 26us/step - loss: 0.1151 - acc: 0.9662\n",
      "Epoch 4/25\n",
      "55000/55000 [==============================] - 1s 27us/step - loss: 0.0834 - acc: 0.9758\n",
      "Epoch 5/25\n",
      "55000/55000 [==============================] - 1s 26us/step - loss: 0.0654 - acc: 0.9809\n",
      "Epoch 6/25\n",
      "55000/55000 [==============================] - 1s 27us/step - loss: 0.0525 - acc: 0.9846\n",
      "Epoch 7/25\n",
      "55000/55000 [==============================] - 1s 26us/step - loss: 0.0399 - acc: 0.9885\n",
      "Epoch 8/25\n",
      "55000/55000 [==============================] - 1s 27us/step - loss: 0.0321 - acc: 0.9909\n",
      "Epoch 9/25\n",
      "55000/55000 [==============================] - 1s 27us/step - loss: 0.0259 - acc: 0.9928\n",
      "Epoch 10/25\n",
      "55000/55000 [==============================] - 1s 27us/step - loss: 0.0207 - acc: 0.9947\n",
      "Epoch 11/25\n",
      "55000/55000 [==============================] - 2s 27us/step - loss: 0.0155 - acc: 0.9964\n",
      "Epoch 12/25\n",
      "55000/55000 [==============================] - 2s 28us/step - loss: 0.0124 - acc: 0.9972\n",
      "Epoch 13/25\n",
      "55000/55000 [==============================] - 1s 26us/step - loss: 0.0110 - acc: 0.9978\n",
      "Epoch 14/25\n",
      "55000/55000 [==============================] - 1s 27us/step - loss: 0.0092 - acc: 0.9981\n",
      "Epoch 15/25\n",
      "55000/55000 [==============================] - 1s 27us/step - loss: 0.0064 - acc: 0.9988\n",
      "Epoch 16/25\n",
      "55000/55000 [==============================] - 1s 27us/step - loss: 0.0046 - acc: 0.9994\n",
      "Epoch 17/25\n",
      "55000/55000 [==============================] - 1s 26us/step - loss: 0.0034 - acc: 0.9996\n",
      "Epoch 18/25\n",
      "55000/55000 [==============================] - 1s 26us/step - loss: 0.0032 - acc: 0.9997\n",
      "Epoch 19/25\n",
      "55000/55000 [==============================] - 1s 26us/step - loss: 0.0024 - acc: 0.9998\n",
      "Epoch 20/25\n",
      "55000/55000 [==============================] - 1s 26us/step - loss: 0.0016 - acc: 1.0000\n",
      "Epoch 21/25\n",
      "55000/55000 [==============================] - 2s 31us/step - loss: 0.0012 - acc: 1.0000\n",
      "Epoch 22/25\n",
      "55000/55000 [==============================] - 2s 28us/step - loss: 9.2165e-04 - acc: 1.0000\n",
      "Epoch 23/25\n",
      "55000/55000 [==============================] - 1s 26us/step - loss: 8.2218e-04 - acc: 1.0000\n",
      "Epoch 24/25\n",
      "55000/55000 [==============================] - 1s 26us/step - loss: 6.8876e-04 - acc: 1.0000\n",
      "Epoch 25/25\n",
      "55000/55000 [==============================] - 1s 27us/step - loss: 5.9939e-04 - acc: 1.0000\n"
     ]
    },
    {
     "data": {
      "text/plain": [
       "<keras.callbacks.History at 0x2086f575c18>"
      ]
     },
     "execution_count": 6,
     "metadata": {},
     "output_type": "execute_result"
    }
   ],
   "source": [
    "model.fit(mnist.train.images, mnist.train.labels,batch_size=550,epochs=25)"
   ]
  },
  {
   "cell_type": "code",
   "execution_count": 7,
   "metadata": {},
   "outputs": [
    {
     "name": "stdout",
     "output_type": "stream",
     "text": [
      "10000/10000 [==============================] - 0s 16us/step\n"
     ]
    },
    {
     "data": {
      "text/plain": [
       "[0.07998469721991569, 0.9812000146508217]"
      ]
     },
     "execution_count": 7,
     "metadata": {},
     "output_type": "execute_result"
    }
   ],
   "source": [
    "score = model.evaluate(mnist.test.images, mnist.test.labels,batch_size=550)\n",
    "score"
   ]
  },
  {
   "cell_type": "code",
   "execution_count": 3,
   "metadata": {
    "collapsed": true
   },
   "outputs": [],
   "source": [
    "train = mnist.train.images\n",
    "test = mnist.test.images"
   ]
  },
  {
   "cell_type": "code",
   "execution_count": 4,
   "metadata": {
    "collapsed": true
   },
   "outputs": [],
   "source": [
    "train = train.reshape(55000,28,28,1)\n",
    "test  = test.reshape(test.shape[0],28,28,1)"
   ]
  },
  {
   "cell_type": "code",
   "execution_count": 5,
   "metadata": {},
   "outputs": [
    {
     "data": {
      "text/plain": [
       "((55000, 28, 28, 1), (10000, 28, 28, 1))"
      ]
     },
     "execution_count": 5,
     "metadata": {},
     "output_type": "execute_result"
    }
   ],
   "source": [
    "train.shape,test.shape"
   ]
  },
  {
   "cell_type": "code",
   "execution_count": 6,
   "metadata": {
    "collapsed": true
   },
   "outputs": [],
   "source": [
    "model1 = Sequential()"
   ]
  },
  {
   "cell_type": "code",
   "execution_count": null,
   "metadata": {
    "collapsed": true
   },
   "outputs": [],
   "source": []
  },
  {
   "cell_type": "code",
   "execution_count": 7,
   "metadata": {
    "collapsed": true
   },
   "outputs": [],
   "source": [
    "input_width = 28\n",
    "input_height = 28\n",
    "input_channels = 1\n",
    "input_shape = (input_height,input_width,1)\n",
    "num_classes = 10"
   ]
  },
  {
   "cell_type": "code",
   "execution_count": 9,
   "metadata": {
    "collapsed": true
   },
   "outputs": [],
   "source": [
    "model1.add(Conv2D(32, kernel_size=(5, 5),activation='relu',padding='SAME',input_shape=input_shape,use_bias=True))\n",
    "model1.add(MaxPooling2D(pool_size=(2, 2)))\n",
    "model1.add(Conv2D(64, (5, 5), activation='relu',padding='SAME',use_bias=True))\n",
    "model1.add(MaxPooling2D(pool_size=(2, 2)))\n",
    "model1.add(Flatten())\n",
    "model1.add(Dense(num_classes,activation=\"softmax\"))"
   ]
  },
  {
   "cell_type": "code",
   "execution_count": 10,
   "metadata": {},
   "outputs": [],
   "source": [
    "adam = optimizers.Adam(lr=0.01)\n",
    "model1.compile(optimizer='adam', loss='categorical_crossentropy', metrics=['accuracy'])"
   ]
  },
  {
   "cell_type": "code",
   "execution_count": 11,
   "metadata": {},
   "outputs": [
    {
     "name": "stdout",
     "output_type": "stream",
     "text": [
      "Epoch 1/20\n",
      "55000/55000 [==============================] - 23s 426us/step - loss: 0.5091 - acc: 0.8582\n",
      "Epoch 2/20\n",
      "55000/55000 [==============================] - 15s 274us/step - loss: 0.1142 - acc: 0.9661\n",
      "Epoch 3/20\n",
      "55000/55000 [==============================] - 15s 274us/step - loss: 0.0753 - acc: 0.9775\n",
      "Epoch 4/20\n",
      "55000/55000 [==============================] - 15s 274us/step - loss: 0.0593 - acc: 0.9819\n",
      "Epoch 5/20\n",
      "55000/55000 [==============================] - 15s 274us/step - loss: 0.0490 - acc: 0.9850\n",
      "Epoch 6/20\n",
      "55000/55000 [==============================] - 15s 273us/step - loss: 0.0429 - acc: 0.9867\n",
      "Epoch 7/20\n",
      "55000/55000 [==============================] - 15s 274us/step - loss: 0.0364 - acc: 0.9890\n",
      "Epoch 8/20\n",
      "55000/55000 [==============================] - 15s 273us/step - loss: 0.0328 - acc: 0.9896\n",
      "Epoch 9/20\n",
      "55000/55000 [==============================] - 15s 274us/step - loss: 0.0296 - acc: 0.9910\n",
      "Epoch 10/20\n",
      "55000/55000 [==============================] - 15s 275us/step - loss: 0.0253 - acc: 0.9923\n",
      "Epoch 11/20\n",
      "55000/55000 [==============================] - 15s 274us/step - loss: 0.0229 - acc: 0.9933\n",
      "Epoch 12/20\n",
      "55000/55000 [==============================] - 15s 274us/step - loss: 0.0210 - acc: 0.9931\n",
      "Epoch 13/20\n",
      "55000/55000 [==============================] - 15s 274us/step - loss: 0.0203 - acc: 0.9935\n",
      "Epoch 14/20\n",
      "55000/55000 [==============================] - 15s 274us/step - loss: 0.0164 - acc: 0.9950\n",
      "Epoch 15/20\n",
      "55000/55000 [==============================] - 15s 274us/step - loss: 0.0150 - acc: 0.9955\n",
      "Epoch 16/20\n",
      "55000/55000 [==============================] - 15s 273us/step - loss: 0.0144 - acc: 0.9956\n",
      "Epoch 17/20\n",
      "55000/55000 [==============================] - 15s 274us/step - loss: 0.0114 - acc: 0.9966\n",
      "Epoch 18/20\n",
      "55000/55000 [==============================] - 15s 273us/step - loss: 0.0101 - acc: 0.9974\n",
      "Epoch 19/20\n",
      "55000/55000 [==============================] - 15s 273us/step - loss: 0.0100 - acc: 0.9974\n",
      "Epoch 20/20\n",
      "55000/55000 [==============================] - 15s 274us/step - loss: 0.0082 - acc: 0.9976\n"
     ]
    },
    {
     "data": {
      "text/plain": [
       "<keras.callbacks.History at 0x242003a4c50>"
      ]
     },
     "execution_count": 11,
     "metadata": {},
     "output_type": "execute_result"
    }
   ],
   "source": [
    "model1.fit(train, mnist.train.labels,batch_size=550,epochs=20)"
   ]
  },
  {
   "cell_type": "code",
   "execution_count": 12,
   "metadata": {},
   "outputs": [
    {
     "name": "stdout",
     "output_type": "stream",
     "text": [
      "10000/10000 [==============================] - 1s 120us/step\n"
     ]
    },
    {
     "data": {
      "text/plain": [
       "[0.03164487185829785, 0.9908000087738037]"
      ]
     },
     "execution_count": 12,
     "metadata": {},
     "output_type": "execute_result"
    }
   ],
   "source": [
    "score = model1.evaluate(test, mnist.test.labels,batch_size=550)\n",
    "score"
   ]
  },
  {
   "cell_type": "code",
   "execution_count": 2,
   "metadata": {
    "collapsed": true
   },
   "outputs": [],
   "source": [
    "import cifar10"
   ]
  },
  {
   "cell_type": "code",
   "execution_count": null,
   "metadata": {
    "collapsed": true
   },
   "outputs": [],
   "source": []
  },
  {
   "cell_type": "code",
   "execution_count": 3,
   "metadata": {},
   "outputs": [
    {
     "name": "stdout",
     "output_type": "stream",
     "text": [
      "Loading data: data/CIFAR-10/cifar-10-batches-py/data_batch_1\n",
      "Loading data: data/CIFAR-10/cifar-10-batches-py/data_batch_2\n",
      "Loading data: data/CIFAR-10/cifar-10-batches-py/data_batch_3\n",
      "Loading data: data/CIFAR-10/cifar-10-batches-py/data_batch_4\n",
      "Loading data: data/CIFAR-10/cifar-10-batches-py/data_batch_5\n"
     ]
    },
    {
     "data": {
      "text/plain": [
       "(50000, 32, 32, 3)"
      ]
     },
     "execution_count": 3,
     "metadata": {},
     "output_type": "execute_result"
    }
   ],
   "source": [
    "x_train,y_train,train_labels = cifar10.load_training_data()\n",
    "x_train.shape"
   ]
  },
  {
   "cell_type": "code",
   "execution_count": 4,
   "metadata": {},
   "outputs": [
    {
     "name": "stdout",
     "output_type": "stream",
     "text": [
      "Loading data: data/CIFAR-10/cifar-10-batches-py/test_batch\n"
     ]
    },
    {
     "data": {
      "text/plain": [
       "(10000, 32, 32, 3)"
      ]
     },
     "execution_count": 4,
     "metadata": {},
     "output_type": "execute_result"
    }
   ],
   "source": [
    "x_test,y_test,test_labels = cifar10.load_test_data()\n",
    "x_test.shape"
   ]
  },
  {
   "cell_type": "code",
   "execution_count": 5,
   "metadata": {
    "collapsed": true
   },
   "outputs": [],
   "source": [
    "model2 = Sequential()"
   ]
  },
  {
   "cell_type": "code",
   "execution_count": 6,
   "metadata": {
    "collapsed": true
   },
   "outputs": [],
   "source": [
    "model2.add(Conv2D(32,kernel_size=(5,5),activation='relu',input_shape=(32, 32, 3),use_bias=True))\n",
    "model2.add(MaxPooling2D(pool_size=(2,2)))\n",
    "model2.add(Conv2D(64,kernel_size=(5,5),padding=\"SAME\",activation='relu',use_bias=True))\n",
    "model2.add(MaxPooling2D(pool_size=(2,2)))\n",
    "model2.add(Flatten())\n",
    "model2.add(Dense(4096,activation='relu'))\n",
    "model2.add(Dropout(.4))\n",
    "model2.add(Dense(512,activation='relu'))\n",
    "model2.add(Dense(10,activation=\"softmax\"))"
   ]
  },
  {
   "cell_type": "code",
   "execution_count": 7,
   "metadata": {
    "collapsed": true
   },
   "outputs": [],
   "source": [
    "adam = optimizers.Adamax(lr=.02)\n",
    "model2.compile(optimizer='adam', loss='categorical_crossentropy', metrics=['accuracy'])"
   ]
  },
  {
   "cell_type": "code",
   "execution_count": 8,
   "metadata": {
    "collapsed": true
   },
   "outputs": [],
   "source": [
    "import keras"
   ]
  },
  {
   "cell_type": "code",
   "execution_count": 9,
   "metadata": {},
   "outputs": [
    {
     "name": "stdout",
     "output_type": "stream",
     "text": [
      "Epoch 1/20\n",
      "50000/50000 [==============================] - 52s 1ms/step - loss: 1.7676 - acc: 0.3543\n",
      "Epoch 2/20\n",
      "50000/50000 [==============================] - 39s 779us/step - loss: 1.3037 - acc: 0.5296\n",
      "Epoch 3/20\n",
      "50000/50000 [==============================] - 39s 779us/step - loss: 1.1094 - acc: 0.6060\n",
      "Epoch 4/20\n",
      "50000/50000 [==============================] - 39s 779us/step - loss: 0.9748 - acc: 0.6556\n",
      "Epoch 5/20\n",
      "50000/50000 [==============================] - 39s 778us/step - loss: 0.8613 - acc: 0.6962\n",
      "Epoch 6/20\n",
      "50000/50000 [==============================] - 39s 779us/step - loss: 0.7560 - acc: 0.7363\n",
      "Epoch 7/20\n",
      "50000/50000 [==============================] - 39s 779us/step - loss: 0.6429 - acc: 0.7751\n",
      "Epoch 8/20\n",
      "50000/50000 [==============================] - 39s 776us/step - loss: 0.5275 - acc: 0.8154\n",
      "Epoch 9/20\n",
      "50000/50000 [==============================] - 39s 779us/step - loss: 0.4214 - acc: 0.8555\n",
      "Epoch 10/20\n",
      "50000/50000 [==============================] - 39s 778us/step - loss: 0.3340 - acc: 0.8834\n",
      "Epoch 11/20\n",
      "50000/50000 [==============================] - 39s 781us/step - loss: 0.2439 - acc: 0.9168\n",
      "Epoch 12/20\n",
      "50000/50000 [==============================] - 39s 778us/step - loss: 0.1842 - acc: 0.9374\n",
      "Epoch 13/20\n",
      "50000/50000 [==============================] - 149s 3ms/step - loss: 0.1455 - acc: 0.9521\n",
      "Epoch 14/20\n",
      "50000/50000 [==============================] - 340s 7ms/step - loss: 0.1259 - acc: 0.9580\n",
      "Epoch 15/20\n",
      "50000/50000 [==============================] - 336s 7ms/step - loss: 0.1093 - acc: 0.9636\n",
      "Epoch 16/20\n",
      "50000/50000 [==============================] - 332s 7ms/step - loss: 0.0896 - acc: 0.9699\n",
      "Epoch 17/20\n",
      "50000/50000 [==============================] - 335s 7ms/step - loss: 0.0737 - acc: 0.9758\n",
      "Epoch 18/20\n",
      "50000/50000 [==============================] - 337s 7ms/step - loss: 0.0722 - acc: 0.9770\n",
      "Epoch 19/20\n",
      "50000/50000 [==============================] - 337s 7ms/step - loss: 0.0720 - acc: 0.9761\n",
      "Epoch 20/20\n",
      "50000/50000 [==============================] - 332s 7ms/step - loss: 0.0632 - acc: 0.9792\n"
     ]
    },
    {
     "data": {
      "text/plain": [
       "<keras.callbacks.History at 0x2730fc68198>"
      ]
     },
     "execution_count": 9,
     "metadata": {},
     "output_type": "execute_result"
    }
   ],
   "source": [
    "model2.fit(x_train,keras.utils.to_categorical(y_train, 10),batch_size=500,epochs=50)"
   ]
  },
  {
   "cell_type": "code",
   "execution_count": 10,
   "metadata": {},
   "outputs": [
    {
     "name": "stdout",
     "output_type": "stream",
     "text": [
      "10000/10000 [==============================] - 26s 3ms/step\n"
     ]
    },
    {
     "data": {
      "text/plain": [
       "[1.549681141090393, 0.7046]"
      ]
     },
     "execution_count": 10,
     "metadata": {},
     "output_type": "execute_result"
    }
   ],
   "source": [
    "score = model2.evaluate(x_test, keras.utils.to_categorical(y_test, 10))\n",
    "score"
   ]
  },
  {
   "cell_type": "code",
   "execution_count": null,
   "metadata": {
    "collapsed": true
   },
   "outputs": [],
   "source": []
  },
  {
   "cell_type": "code",
   "execution_count": null,
   "metadata": {
    "collapsed": true
   },
   "outputs": [],
   "source": []
  },
  {
   "cell_type": "code",
   "execution_count": null,
   "metadata": {
    "collapsed": true
   },
   "outputs": [],
   "source": []
  },
  {
   "cell_type": "code",
   "execution_count": null,
   "metadata": {
    "collapsed": true
   },
   "outputs": [],
   "source": []
  },
  {
   "cell_type": "code",
   "execution_count": null,
   "metadata": {
    "collapsed": true
   },
   "outputs": [],
   "source": []
  },
  {
   "cell_type": "code",
   "execution_count": null,
   "metadata": {
    "collapsed": true
   },
   "outputs": [],
   "source": []
  },
  {
   "cell_type": "code",
   "execution_count": null,
   "metadata": {
    "collapsed": true
   },
   "outputs": [],
   "source": []
  },
  {
   "cell_type": "code",
   "execution_count": null,
   "metadata": {
    "collapsed": true
   },
   "outputs": [],
   "source": []
  },
  {
   "cell_type": "code",
   "execution_count": null,
   "metadata": {
    "collapsed": true
   },
   "outputs": [],
   "source": []
  }
 ],
 "metadata": {
  "kernelspec": {
   "display_name": "Python 3",
   "language": "python",
   "name": "python3"
  },
  "language_info": {
   "codemirror_mode": {
    "name": "ipython",
    "version": 3
   },
   "file_extension": ".py",
   "mimetype": "text/x-python",
   "name": "python",
   "nbconvert_exporter": "python",
   "pygments_lexer": "ipython3",
   "version": "3.6.3"
  }
 },
 "nbformat": 4,
 "nbformat_minor": 2
}
